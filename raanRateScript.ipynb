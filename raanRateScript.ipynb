{
  "nbformat": 4,
  "nbformat_minor": 0,
  "metadata": {
    "colab": {
      "name": "raanRateScript.ipynb",
      "provenance": [],
      "authorship_tag": "ABX9TyNH5QtDRmBMVQG240jk+2JM",
      "include_colab_link": true
    },
    "kernelspec": {
      "name": "python3",
      "display_name": "Python 3"
    },
    "language_info": {
      "name": "python"
    }
  },
  "cells": [
    {
      "cell_type": "markdown",
      "metadata": {
        "id": "view-in-github",
        "colab_type": "text"
      },
      "source": [
        "<a href=\"https://colab.research.google.com/github/Satsir/Colab/blob/main/raanRateScript.ipynb\" target=\"_parent\"><img src=\"https://colab.research.google.com/assets/colab-badge.svg\" alt=\"Open In Colab\"/></a>"
      ]
    },
    {
      "cell_type": "code",
      "execution_count": 1,
      "metadata": {
        "colab": {
          "base_uri": "https://localhost:8080/"
        },
        "id": "3kOv9prQxv9n",
        "outputId": "44eb1a23-0054-4c74-e347-3b93892a3d5f"
      },
      "outputs": [
        {
          "output_type": "execute_result",
          "data": {
            "text/plain": [
              "4.9208857559145445"
            ]
          },
          "metadata": {},
          "execution_count": 1
        }
      ],
      "source": [
        "import math\n",
        "i = 50\n",
        "h = 500\n",
        "e = 0\n",
        "Re = 6378.14\n",
        "\n",
        "raanRate = 9.97 * (Re/(Re + h))**3.5*math.cos(math.radians(i))/((1-e**2))**2 # deg/day\n",
        "raanRate"
      ]
    }
  ]
}